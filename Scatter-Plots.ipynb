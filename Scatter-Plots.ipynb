{
 "cells": [
  {
   "cell_type": "markdown",
   "id": "textile-quantity",
   "metadata": {
    "papermill": {
     "duration": 0.027242,
     "end_time": "2021-05-13T15:19:20.096356",
     "exception": false,
     "start_time": "2021-05-13T15:19:20.069114",
     "status": "completed"
    },
    "tags": []
   },
   "source": [
    "**This notebook is an exercise in the [Data Visualization](https://www.kaggle.com/learn/data-visualization) course.  You can reference the tutorial at [this link](https://www.kaggle.com/alexisbcook/scatter-plots).**\n",
    "\n",
    "---\n"
   ]
  },
  {
   "cell_type": "markdown",
   "id": "entertaining-services",
   "metadata": {
    "papermill": {
     "duration": 0.025488,
     "end_time": "2021-05-13T15:19:20.149857",
     "exception": false,
     "start_time": "2021-05-13T15:19:20.124369",
     "status": "completed"
    },
    "tags": []
   },
   "source": [
    "In this exercise, you will use your new knowledge to propose a solution to a real-world scenario.  To succeed, you will need to import data into Python, answer questions using the data, and generate **scatter plots** to understand patterns in the data.\n",
    "\n",
    "## Scenario\n",
    "\n",
    "You work for a major candy producer, and your goal is to write a report that your company can use to guide the design of its next product.  Soon after starting your research, you stumble across this [very interesting dataset](https://fivethirtyeight.com/features/the-ultimate-halloween-candy-power-ranking/) containing results from a fun survey to crowdsource favorite candies.\n",
    "\n",
    "## Setup\n",
    "\n",
    "Run the next cell to import and configure the Python libraries that you need to complete the exercise."
   ]
  },
  {
   "cell_type": "code",
   "execution_count": 1,
   "id": "saving-somewhere",
   "metadata": {
    "execution": {
     "iopub.execute_input": "2021-05-13T15:19:20.209649Z",
     "iopub.status.busy": "2021-05-13T15:19:20.208445Z",
     "iopub.status.idle": "2021-05-13T15:19:21.334417Z",
     "shell.execute_reply": "2021-05-13T15:19:21.334991Z"
    },
    "papermill": {
     "duration": 1.157664,
     "end_time": "2021-05-13T15:19:21.335401",
     "exception": false,
     "start_time": "2021-05-13T15:19:20.177737",
     "status": "completed"
    },
    "tags": []
   },
   "outputs": [
    {
     "name": "stdout",
     "output_type": "stream",
     "text": [
      "Setup Complete\n"
     ]
    }
   ],
   "source": [
    "import pandas as pd\n",
    "pd.plotting.register_matplotlib_converters()\n",
    "import matplotlib.pyplot as plt\n",
    "%matplotlib inline\n",
    "import seaborn as sns\n",
    "print(\"Setup Complete\")"
   ]
  },
  {
   "cell_type": "markdown",
   "id": "ecological-spider",
   "metadata": {
    "papermill": {
     "duration": 0.025926,
     "end_time": "2021-05-13T15:19:21.390383",
     "exception": false,
     "start_time": "2021-05-13T15:19:21.364457",
     "status": "completed"
    },
    "tags": []
   },
   "source": [
    "The questions below will give you feedback on your work. Run the following cell to set up our feedback system."
   ]
  },
  {
   "cell_type": "code",
   "execution_count": 2,
   "id": "careful-syntax",
   "metadata": {
    "execution": {
     "iopub.execute_input": "2021-05-13T15:19:21.449010Z",
     "iopub.status.busy": "2021-05-13T15:19:21.448140Z",
     "iopub.status.idle": "2021-05-13T15:19:21.532827Z",
     "shell.execute_reply": "2021-05-13T15:19:21.532185Z"
    },
    "papermill": {
     "duration": 0.116652,
     "end_time": "2021-05-13T15:19:21.533005",
     "exception": false,
     "start_time": "2021-05-13T15:19:21.416353",
     "status": "completed"
    },
    "tags": []
   },
   "outputs": [
    {
     "name": "stdout",
     "output_type": "stream",
     "text": [
      "Setup Complete\n"
     ]
    }
   ],
   "source": [
    "# Set up code checking\n",
    "import os\n",
    "if not os.path.exists(\"../input/candy.csv\"):\n",
    "    os.symlink(\"../input/data-for-datavis/candy.csv\", \"../input/candy.csv\") \n",
    "from learntools.core import binder\n",
    "binder.bind(globals())\n",
    "from learntools.data_viz_to_coder.ex4 import *\n",
    "print(\"Setup Complete\")"
   ]
  },
  {
   "cell_type": "markdown",
   "id": "widespread-march",
   "metadata": {
    "papermill": {
     "duration": 0.029621,
     "end_time": "2021-05-13T15:19:21.592561",
     "exception": false,
     "start_time": "2021-05-13T15:19:21.562940",
     "status": "completed"
    },
    "tags": []
   },
   "source": [
    "## Step 1: Load the Data\n",
    "\n",
    "Read the candy data file into `candy_data`.  Use the `\"id\"` column to label the rows."
   ]
  },
  {
   "cell_type": "code",
   "execution_count": 3,
   "id": "applicable-companion",
   "metadata": {
    "execution": {
     "iopub.execute_input": "2021-05-13T15:19:21.655636Z",
     "iopub.status.busy": "2021-05-13T15:19:21.654594Z",
     "iopub.status.idle": "2021-05-13T15:19:21.671491Z",
     "shell.execute_reply": "2021-05-13T15:19:21.671969Z"
    },
    "papermill": {
     "duration": 0.052096,
     "end_time": "2021-05-13T15:19:21.672195",
     "exception": false,
     "start_time": "2021-05-13T15:19:21.620099",
     "status": "completed"
    },
    "tags": []
   },
   "outputs": [
    {
     "data": {
      "application/javascript": [
       "parent.postMessage({\"jupyterEvent\": \"custom.exercise_interaction\", \"data\": {\"outcomeType\": 1, \"valueTowardsCompletion\": 0.3333333333333333, \"interactionType\": 1, \"questionType\": 1, \"questionId\": \"1_LoadData\", \"learnToolsVersion\": \"0.3.4\", \"failureMessage\": \"\", \"exceptionClass\": \"\", \"trace\": \"\"}}, \"*\")"
      ],
      "text/plain": [
       "<IPython.core.display.Javascript object>"
      ]
     },
     "metadata": {},
     "output_type": "display_data"
    },
    {
     "data": {
      "text/markdown": [
       "<span style=\"color:#33cc33\">Correct</span>"
      ],
      "text/plain": [
       "Correct"
      ]
     },
     "metadata": {},
     "output_type": "display_data"
    }
   ],
   "source": [
    "# Path of the file to read\n",
    "candy_filepath = \"../input/candy.csv\"\n",
    "\n",
    "# Fill in the line below to read the file into a variable candy_data\n",
    "candy_data = pd.read_csv(candy_filepath, index_col=\"id\")\n",
    "\n",
    "# Run the line below with no changes to check that you've loaded the data correctly\n",
    "step_1.check()"
   ]
  },
  {
   "cell_type": "code",
   "execution_count": 4,
   "id": "vocal-counter",
   "metadata": {
    "execution": {
     "iopub.execute_input": "2021-05-13T15:19:21.731509Z",
     "iopub.status.busy": "2021-05-13T15:19:21.730839Z",
     "iopub.status.idle": "2021-05-13T15:19:21.734972Z",
     "shell.execute_reply": "2021-05-13T15:19:21.734355Z"
    },
    "papermill": {
     "duration": 0.035371,
     "end_time": "2021-05-13T15:19:21.735128",
     "exception": false,
     "start_time": "2021-05-13T15:19:21.699757",
     "status": "completed"
    },
    "tags": []
   },
   "outputs": [],
   "source": [
    "# Lines below will give you a hint or solution code\n",
    "#step_1.hint()\n",
    "#step_1.solution()"
   ]
  },
  {
   "cell_type": "markdown",
   "id": "greater-fleece",
   "metadata": {
    "papermill": {
     "duration": 0.026307,
     "end_time": "2021-05-13T15:19:21.788294",
     "exception": false,
     "start_time": "2021-05-13T15:19:21.761987",
     "status": "completed"
    },
    "tags": []
   },
   "source": [
    "## Step 2: Review the data\n",
    "\n",
    "Use a Python command to print the first five rows of the data."
   ]
  },
  {
   "cell_type": "code",
   "execution_count": 5,
   "id": "radio-inspection",
   "metadata": {
    "execution": {
     "iopub.execute_input": "2021-05-13T15:19:21.848626Z",
     "iopub.status.busy": "2021-05-13T15:19:21.847704Z",
     "iopub.status.idle": "2021-05-13T15:19:21.871802Z",
     "shell.execute_reply": "2021-05-13T15:19:21.870807Z"
    },
    "papermill": {
     "duration": 0.057247,
     "end_time": "2021-05-13T15:19:21.872151",
     "exception": false,
     "start_time": "2021-05-13T15:19:21.814904",
     "status": "completed"
    },
    "tags": []
   },
   "outputs": [
    {
     "data": {
      "text/html": [
       "<div>\n",
       "<style scoped>\n",
       "    .dataframe tbody tr th:only-of-type {\n",
       "        vertical-align: middle;\n",
       "    }\n",
       "\n",
       "    .dataframe tbody tr th {\n",
       "        vertical-align: top;\n",
       "    }\n",
       "\n",
       "    .dataframe thead th {\n",
       "        text-align: right;\n",
       "    }\n",
       "</style>\n",
       "<table border=\"1\" class=\"dataframe\">\n",
       "  <thead>\n",
       "    <tr style=\"text-align: right;\">\n",
       "      <th></th>\n",
       "      <th>competitorname</th>\n",
       "      <th>chocolate</th>\n",
       "      <th>fruity</th>\n",
       "      <th>caramel</th>\n",
       "      <th>peanutyalmondy</th>\n",
       "      <th>nougat</th>\n",
       "      <th>crispedricewafer</th>\n",
       "      <th>hard</th>\n",
       "      <th>bar</th>\n",
       "      <th>pluribus</th>\n",
       "      <th>sugarpercent</th>\n",
       "      <th>pricepercent</th>\n",
       "      <th>winpercent</th>\n",
       "    </tr>\n",
       "    <tr>\n",
       "      <th>id</th>\n",
       "      <th></th>\n",
       "      <th></th>\n",
       "      <th></th>\n",
       "      <th></th>\n",
       "      <th></th>\n",
       "      <th></th>\n",
       "      <th></th>\n",
       "      <th></th>\n",
       "      <th></th>\n",
       "      <th></th>\n",
       "      <th></th>\n",
       "      <th></th>\n",
       "      <th></th>\n",
       "    </tr>\n",
       "  </thead>\n",
       "  <tbody>\n",
       "    <tr>\n",
       "      <th>0</th>\n",
       "      <td>100 Grand</td>\n",
       "      <td>Yes</td>\n",
       "      <td>No</td>\n",
       "      <td>Yes</td>\n",
       "      <td>No</td>\n",
       "      <td>No</td>\n",
       "      <td>Yes</td>\n",
       "      <td>No</td>\n",
       "      <td>Yes</td>\n",
       "      <td>No</td>\n",
       "      <td>0.732</td>\n",
       "      <td>0.860</td>\n",
       "      <td>66.971725</td>\n",
       "    </tr>\n",
       "    <tr>\n",
       "      <th>1</th>\n",
       "      <td>3 Musketeers</td>\n",
       "      <td>Yes</td>\n",
       "      <td>No</td>\n",
       "      <td>No</td>\n",
       "      <td>No</td>\n",
       "      <td>Yes</td>\n",
       "      <td>No</td>\n",
       "      <td>No</td>\n",
       "      <td>Yes</td>\n",
       "      <td>No</td>\n",
       "      <td>0.604</td>\n",
       "      <td>0.511</td>\n",
       "      <td>67.602936</td>\n",
       "    </tr>\n",
       "    <tr>\n",
       "      <th>2</th>\n",
       "      <td>Air Heads</td>\n",
       "      <td>No</td>\n",
       "      <td>Yes</td>\n",
       "      <td>No</td>\n",
       "      <td>No</td>\n",
       "      <td>No</td>\n",
       "      <td>No</td>\n",
       "      <td>No</td>\n",
       "      <td>No</td>\n",
       "      <td>No</td>\n",
       "      <td>0.906</td>\n",
       "      <td>0.511</td>\n",
       "      <td>52.341465</td>\n",
       "    </tr>\n",
       "    <tr>\n",
       "      <th>3</th>\n",
       "      <td>Almond Joy</td>\n",
       "      <td>Yes</td>\n",
       "      <td>No</td>\n",
       "      <td>No</td>\n",
       "      <td>Yes</td>\n",
       "      <td>No</td>\n",
       "      <td>No</td>\n",
       "      <td>No</td>\n",
       "      <td>Yes</td>\n",
       "      <td>No</td>\n",
       "      <td>0.465</td>\n",
       "      <td>0.767</td>\n",
       "      <td>50.347546</td>\n",
       "    </tr>\n",
       "    <tr>\n",
       "      <th>4</th>\n",
       "      <td>Baby Ruth</td>\n",
       "      <td>Yes</td>\n",
       "      <td>No</td>\n",
       "      <td>Yes</td>\n",
       "      <td>Yes</td>\n",
       "      <td>Yes</td>\n",
       "      <td>No</td>\n",
       "      <td>No</td>\n",
       "      <td>Yes</td>\n",
       "      <td>No</td>\n",
       "      <td>0.604</td>\n",
       "      <td>0.767</td>\n",
       "      <td>56.914547</td>\n",
       "    </tr>\n",
       "  </tbody>\n",
       "</table>\n",
       "</div>"
      ],
      "text/plain": [
       "   competitorname chocolate fruity caramel peanutyalmondy nougat  \\\n",
       "id                                                                 \n",
       "0       100 Grand       Yes     No     Yes             No     No   \n",
       "1    3 Musketeers       Yes     No      No             No    Yes   \n",
       "2       Air Heads        No    Yes      No             No     No   \n",
       "3      Almond Joy       Yes     No      No            Yes     No   \n",
       "4       Baby Ruth       Yes     No     Yes            Yes    Yes   \n",
       "\n",
       "   crispedricewafer hard  bar pluribus  sugarpercent  pricepercent  winpercent  \n",
       "id                                                                              \n",
       "0               Yes   No  Yes       No         0.732         0.860   66.971725  \n",
       "1                No   No  Yes       No         0.604         0.511   67.602936  \n",
       "2                No   No   No       No         0.906         0.511   52.341465  \n",
       "3                No   No  Yes       No         0.465         0.767   50.347546  \n",
       "4                No   No  Yes       No         0.604         0.767   56.914547  "
      ]
     },
     "execution_count": 5,
     "metadata": {},
     "output_type": "execute_result"
    }
   ],
   "source": [
    "# Print the first five rows of the data\n",
    "candy_data.head()"
   ]
  },
  {
   "cell_type": "markdown",
   "id": "alternate-brunswick",
   "metadata": {
    "papermill": {
     "duration": 0.028561,
     "end_time": "2021-05-13T15:19:21.930526",
     "exception": false,
     "start_time": "2021-05-13T15:19:21.901965",
     "status": "completed"
    },
    "tags": []
   },
   "source": [
    "The dataset contains 83 rows, where each corresponds to a different candy bar.  There are 13 columns:\n",
    "- `'competitorname'` contains the name of the candy bar. \n",
    "- the next **9** columns (from `'chocolate'` to `'pluribus'`) describe the candy.  For instance, rows with chocolate candies have `\"Yes\"` in the `'chocolate'` column (and candies without chocolate have `\"No\"` in the same column).\n",
    "- `'sugarpercent'` provides some indication of the amount of sugar, where higher values signify higher sugar content.\n",
    "- `'pricepercent'` shows the price per unit, relative to the other candies in the dataset.\n",
    "- `'winpercent'` is calculated from the survey results; higher values indicate that the candy was more popular with survey respondents.\n",
    "\n",
    "Use the first five rows of the data to answer the questions below."
   ]
  },
  {
   "cell_type": "code",
   "execution_count": 6,
   "id": "photographic-prompt",
   "metadata": {
    "execution": {
     "iopub.execute_input": "2021-05-13T15:19:21.998812Z",
     "iopub.status.busy": "2021-05-13T15:19:21.998125Z",
     "iopub.status.idle": "2021-05-13T15:19:22.006452Z",
     "shell.execute_reply": "2021-05-13T15:19:22.005892Z"
    },
    "papermill": {
     "duration": 0.045126,
     "end_time": "2021-05-13T15:19:22.006611",
     "exception": false,
     "start_time": "2021-05-13T15:19:21.961485",
     "status": "completed"
    },
    "tags": []
   },
   "outputs": [
    {
     "data": {
      "application/javascript": [
       "parent.postMessage({\"jupyterEvent\": \"custom.exercise_interaction\", \"data\": {\"outcomeType\": 1, \"valueTowardsCompletion\": 0.3333333333333333, \"interactionType\": 1, \"questionType\": 1, \"questionId\": \"2_ReviewData\", \"learnToolsVersion\": \"0.3.4\", \"failureMessage\": \"\", \"exceptionClass\": \"\", \"trace\": \"\"}}, \"*\")"
      ],
      "text/plain": [
       "<IPython.core.display.Javascript object>"
      ]
     },
     "metadata": {},
     "output_type": "display_data"
    },
    {
     "data": {
      "text/markdown": [
       "<span style=\"color:#33cc33\">Correct</span>"
      ],
      "text/plain": [
       "Correct"
      ]
     },
     "metadata": {},
     "output_type": "display_data"
    }
   ],
   "source": [
    "# Fill in the line below: Which candy was more popular with survey respondents:\n",
    "# '3 Musketeers' or 'Almond Joy'?  (Please enclose your answer in single quotes.)\n",
    "more_popular = '3 Musketeers'\n",
    "\n",
    "# Fill in the line below: Which candy has higher sugar content: 'Air Heads'\n",
    "# or 'Baby Ruth'? (Please enclose your answer in single quotes.)\n",
    "more_sugar =  'Air Heads'\n",
    "\n",
    "\n",
    "# Check your answers\n",
    "step_2.check()"
   ]
  },
  {
   "cell_type": "code",
   "execution_count": 7,
   "id": "fresh-israel",
   "metadata": {
    "execution": {
     "iopub.execute_input": "2021-05-13T15:19:22.070432Z",
     "iopub.status.busy": "2021-05-13T15:19:22.069696Z",
     "iopub.status.idle": "2021-05-13T15:19:22.074297Z",
     "shell.execute_reply": "2021-05-13T15:19:22.073635Z"
    },
    "papermill": {
     "duration": 0.038232,
     "end_time": "2021-05-13T15:19:22.074448",
     "exception": false,
     "start_time": "2021-05-13T15:19:22.036216",
     "status": "completed"
    },
    "tags": []
   },
   "outputs": [],
   "source": [
    "# Lines below will give you a hint or solution code\n",
    "#step_2.hint()\n",
    "#step_2.solution()"
   ]
  },
  {
   "cell_type": "markdown",
   "id": "international-determination",
   "metadata": {
    "papermill": {
     "duration": 0.028513,
     "end_time": "2021-05-13T15:19:22.132096",
     "exception": false,
     "start_time": "2021-05-13T15:19:22.103583",
     "status": "completed"
    },
    "tags": []
   },
   "source": [
    "## Step 3: The role of sugar\n",
    "\n",
    "Do people tend to prefer candies with higher sugar content?  \n",
    "\n",
    "#### Part A\n",
    "\n",
    "Create a scatter plot that shows the relationship between `'sugarpercent'` (on the horizontal x-axis) and `'winpercent'` (on the vertical y-axis).  _Don't add a regression line just yet -- you'll do that in the next step!_"
   ]
  },
  {
   "cell_type": "code",
   "execution_count": 8,
   "id": "worthy-transsexual",
   "metadata": {
    "execution": {
     "iopub.execute_input": "2021-05-13T15:19:22.226981Z",
     "iopub.status.busy": "2021-05-13T15:19:22.226158Z",
     "iopub.status.idle": "2021-05-13T15:19:22.449267Z",
     "shell.execute_reply": "2021-05-13T15:19:22.448546Z"
    },
    "papermill": {
     "duration": 0.286904,
     "end_time": "2021-05-13T15:19:22.449416",
     "exception": false,
     "start_time": "2021-05-13T15:19:22.162512",
     "status": "completed"
    },
    "tags": []
   },
   "outputs": [
    {
     "data": {
      "application/javascript": [
       "parent.postMessage({\"jupyterEvent\": \"custom.exercise_interaction\", \"data\": {\"outcomeType\": 1, \"valueTowardsCompletion\": 0.3333333333333333, \"interactionType\": 1, \"questionType\": 2, \"questionId\": \"3.1_PlotBlueScatter\", \"learnToolsVersion\": \"0.3.4\", \"failureMessage\": \"\", \"exceptionClass\": \"\", \"trace\": \"\"}}, \"*\")"
      ],
      "text/plain": [
       "<IPython.core.display.Javascript object>"
      ]
     },
     "metadata": {},
     "output_type": "display_data"
    },
    {
     "data": {
      "text/markdown": [
       "<span style=\"color:#33cc33\">Correct</span>"
      ],
      "text/plain": [
       "Correct"
      ]
     },
     "metadata": {},
     "output_type": "display_data"
    },
    {
     "data": {
      "image/png": "[encoded data removed]",
      "text/plain": [
       "<Figure size 432x288 with 1 Axes>"
      ]
     },
     "metadata": {
      "needs_background": "light"
     },
     "output_type": "display_data"
    }
   ],
   "source": [
    "# Scatter plot showing the relationship between 'sugarpercent' and 'winpercent'\n",
    "sns.scatterplot(x=candy_data['sugarpercent'], y=candy_data['winpercent'])\n",
    " # Your code here\n",
    "\n",
    "# Check your answer\n",
    "step_3.a.check()"
   ]
  },
  {
   "cell_type": "code",
   "execution_count": 9,
   "id": "varying-humanity",
   "metadata": {
    "execution": {
     "iopub.execute_input": "2021-05-13T15:19:22.517231Z",
     "iopub.status.busy": "2021-05-13T15:19:22.516390Z",
     "iopub.status.idle": "2021-05-13T15:19:22.520265Z",
     "shell.execute_reply": "2021-05-13T15:19:22.519670Z"
    },
    "papermill": {
     "duration": 0.039644,
     "end_time": "2021-05-13T15:19:22.520419",
     "exception": false,
     "start_time": "2021-05-13T15:19:22.480775",
     "status": "completed"
    },
    "tags": []
   },
   "outputs": [],
   "source": [
    "# Lines below will give you a hint or solution code\n",
    "#step_3.a.hint()\n",
    "#step_3.a.solution_plot()"
   ]
  },
  {
   "cell_type": "markdown",
   "id": "flexible-dominant",
   "metadata": {
    "papermill": {
     "duration": 0.031033,
     "end_time": "2021-05-13T15:19:22.582278",
     "exception": false,
     "start_time": "2021-05-13T15:19:22.551245",
     "status": "completed"
    },
    "tags": []
   },
   "source": [
    "#### Part B\n",
    "\n",
    "Does the scatter plot show a **strong** correlation between the two variables?  If so, are candies with more sugar relatively more or less popular with the survey respondents?"
   ]
  },
  {
   "cell_type": "code",
   "execution_count": 10,
   "id": "recent-corruption",
   "metadata": {
    "execution": {
     "iopub.execute_input": "2021-05-13T15:19:22.650973Z",
     "iopub.status.busy": "2021-05-13T15:19:22.650328Z",
     "iopub.status.idle": "2021-05-13T15:19:22.654451Z",
     "shell.execute_reply": "2021-05-13T15:19:22.653760Z"
    },
    "papermill": {
     "duration": 0.04126,
     "end_time": "2021-05-13T15:19:22.654598",
     "exception": false,
     "start_time": "2021-05-13T15:19:22.613338",
     "status": "completed"
    },
    "tags": []
   },
   "outputs": [],
   "source": [
    "#step_3.b.hint()"
   ]
  },
  {
   "cell_type": "code",
   "execution_count": 11,
   "id": "rotary-piece",
   "metadata": {
    "execution": {
     "iopub.execute_input": "2021-05-13T15:19:22.721119Z",
     "iopub.status.busy": "2021-05-13T15:19:22.720436Z",
     "iopub.status.idle": "2021-05-13T15:19:22.729531Z",
     "shell.execute_reply": "2021-05-13T15:19:22.728805Z"
    },
    "papermill": {
     "duration": 0.043731,
     "end_time": "2021-05-13T15:19:22.729680",
     "exception": false,
     "start_time": "2021-05-13T15:19:22.685949",
     "status": "completed"
    },
    "tags": []
   },
   "outputs": [
    {
     "data": {
      "application/javascript": [
       "parent.postMessage({\"jupyterEvent\": \"custom.exercise_interaction\", \"data\": {\"interactionType\": 3, \"questionType\": 4, \"questionId\": \"3.2_ThinkBlueScatter\", \"learnToolsVersion\": \"0.3.4\", \"valueTowardsCompletion\": 0.0, \"failureMessage\": \"\", \"exceptionClass\": \"\", \"trace\": \"\", \"outcomeType\": 4}}, \"*\")"
      ],
      "text/plain": [
       "<IPython.core.display.Javascript object>"
      ]
     },
     "metadata": {},
     "output_type": "display_data"
    },
    {
     "data": {
      "text/markdown": [
       "<span style=\"color:#33cc99\">Solution:</span> The scatter plot does not show a strong correlation between the two variables. Since there is no clear relationship between the two variables, this tells us that sugar content does not play a strong role in candy popularity."
      ],
      "text/plain": [
       "Solution: The scatter plot does not show a strong correlation between the two variables. Since there is no clear relationship between the two variables, this tells us that sugar content does not play a strong role in candy popularity."
      ]
     },
     "metadata": {},
     "output_type": "display_data"
    }
   ],
   "source": [
    "# Check your answer (Run this code cell to receive credit!)\n",
    "step_3.b.solution()"
   ]
  },
  {
   "cell_type": "markdown",
   "id": "matched-purchase",
   "metadata": {
    "papermill": {
     "duration": 0.03255,
     "end_time": "2021-05-13T15:19:22.794784",
     "exception": false,
     "start_time": "2021-05-13T15:19:22.762234",
     "status": "completed"
    },
    "tags": []
   },
   "source": [
    "## Step 4: Take a closer look\n",
    "\n",
    "#### Part A\n",
    "\n",
    "Create the same scatter plot you created in **Step 3**, but now with a regression line!"
   ]
  },
  {
   "cell_type": "code",
   "execution_count": 12,
   "id": "first-madonna",
   "metadata": {
    "execution": {
     "iopub.execute_input": "2021-05-13T15:19:22.884850Z",
     "iopub.status.busy": "2021-05-13T15:19:22.874906Z",
     "iopub.status.idle": "2021-05-13T15:19:23.137642Z",
     "shell.execute_reply": "2021-05-13T15:19:23.136793Z"
    },
    "papermill": {
     "duration": 0.310879,
     "end_time": "2021-05-13T15:19:23.137822",
     "exception": false,
     "start_time": "2021-05-13T15:19:22.826943",
     "status": "completed"
    },
    "tags": []
   },
   "outputs": [
    {
     "data": {
      "application/javascript": [
       "parent.postMessage({\"jupyterEvent\": \"custom.exercise_interaction\", \"data\": {\"outcomeType\": 1, \"valueTowardsCompletion\": 0.3333333333333333, \"interactionType\": 1, \"questionType\": 2, \"questionId\": \"4.1_PlotBlueReg\", \"learnToolsVersion\": \"0.3.4\", \"failureMessage\": \"\", \"exceptionClass\": \"\", \"trace\": \"\"}}, \"*\")"
      ],
      "text/plain": [
       "<IPython.core.display.Javascript object>"
      ]
     },
     "metadata": {},
     "output_type": "display_data"
    },
    {
     "data": {
      "text/markdown": [
       "<span style=\"color:#33cc33\">Correct</span>"
      ],
      "text/plain": [
       "Correct"
      ]
     },
     "metadata": {},
     "output_type": "display_data"
    },
    {
     "data": {
      "image/png": "[encoded data removed]",
      "text/plain": [
       "<Figure size 432x288 with 1 Axes>"
      ]
     },
     "metadata": {
      "needs_background": "light"
     },
     "output_type": "display_data"
    }
   ],
   "source": [
    "# Scatter plot w/ regression line showing the relationship between 'sugarpercent' and 'winpercent'\n",
    "sns.regplot(x=candy_data['sugarpercent'], y=candy_data['winpercent'])\n",
    " # Your code here\n",
    "\n",
    "# Check your answer\n",
    "step_4.a.check()"
   ]
  },
  {
   "cell_type": "code",
   "execution_count": 13,
   "id": "regular-acrobat",
   "metadata": {
    "execution": {
     "iopub.execute_input": "2021-05-13T15:19:23.216367Z",
     "iopub.status.busy": "2021-05-13T15:19:23.215249Z",
     "iopub.status.idle": "2021-05-13T15:19:23.218320Z",
     "shell.execute_reply": "2021-05-13T15:19:23.217704Z"
    },
    "papermill": {
     "duration": 0.045221,
     "end_time": "2021-05-13T15:19:23.218501",
     "exception": false,
     "start_time": "2021-05-13T15:19:23.173280",
     "status": "completed"
    },
    "tags": []
   },
   "outputs": [],
   "source": [
    "# Lines below will give you a hint or solution code\n",
    "#step_4.a.hint()\n",
    "#step_4.a.solution_plot()"
   ]
  },
  {
   "cell_type": "markdown",
   "id": "forty-copper",
   "metadata": {
    "papermill": {
     "duration": 0.036536,
     "end_time": "2021-05-13T15:19:23.293692",
     "exception": false,
     "start_time": "2021-05-13T15:19:23.257156",
     "status": "completed"
    },
    "tags": []
   },
   "source": [
    "#### Part B\n",
    "\n",
    "According to the plot above, is there a **slight** correlation between `'winpercent'` and `'sugarpercent'`?  What does this tell you about the candy that people tend to prefer?"
   ]
  },
  {
   "cell_type": "code",
   "execution_count": 14,
   "id": "suitable-conversion",
   "metadata": {
    "execution": {
     "iopub.execute_input": "2021-05-13T15:19:23.375564Z",
     "iopub.status.busy": "2021-05-13T15:19:23.374868Z",
     "iopub.status.idle": "2021-05-13T15:19:23.378623Z",
     "shell.execute_reply": "2021-05-13T15:19:23.377919Z"
    },
    "papermill": {
     "duration": 0.045473,
     "end_time": "2021-05-13T15:19:23.378775",
     "exception": false,
     "start_time": "2021-05-13T15:19:23.333302",
     "status": "completed"
    },
    "tags": []
   },
   "outputs": [],
   "source": [
    "#step_4.b.hint()"
   ]
  },
  {
   "cell_type": "code",
   "execution_count": 15,
   "id": "interpreted-madison",
   "metadata": {
    "execution": {
     "iopub.execute_input": "2021-05-13T15:19:23.454263Z",
     "iopub.status.busy": "2021-05-13T15:19:23.453566Z",
     "iopub.status.idle": "2021-05-13T15:19:23.458001Z",
     "shell.execute_reply": "2021-05-13T15:19:23.458517Z"
    },
    "papermill": {
     "duration": 0.045325,
     "end_time": "2021-05-13T15:19:23.458687",
     "exception": false,
     "start_time": "2021-05-13T15:19:23.413362",
     "status": "completed"
    },
    "tags": []
   },
   "outputs": [
    {
     "data": {
      "application/javascript": [
       "parent.postMessage({\"jupyterEvent\": \"custom.exercise_interaction\", \"data\": {\"interactionType\": 3, \"questionType\": 4, \"questionId\": \"4.2_ThinkBlueReg\", \"learnToolsVersion\": \"0.3.4\", \"valueTowardsCompletion\": 0.0, \"failureMessage\": \"\", \"exceptionClass\": \"\", \"trace\": \"\", \"outcomeType\": 4}}, \"*\")"
      ],
      "text/plain": [
       "<IPython.core.display.Javascript object>"
      ]
     },
     "metadata": {},
     "output_type": "display_data"
    },
    {
     "data": {
      "text/markdown": [
       "<span style=\"color:#33cc99\">Solution:</span> Since the regression line has a slightly positive slope, this tells us that there is a slightly positive correlation between `'winpercent'` and `'sugarpercent'`. Thus, people have a slight preference for candies containing relatively more sugar."
      ],
      "text/plain": [
       "Solution: Since the regression line has a slightly positive slope, this tells us that there is a slightly positive correlation between `'winpercent'` and `'sugarpercent'`. Thus, people have a slight preference for candies containing relatively more sugar."
      ]
     },
     "metadata": {},
     "output_type": "display_data"
    }
   ],
   "source": [
    "# Check your answer (Run this code cell to receive credit!)\n",
    "step_4.b.solution()"
   ]
  },
  {
   "cell_type": "markdown",
   "id": "reliable-value",
   "metadata": {
    "papermill": {
     "duration": 0.035517,
     "end_time": "2021-05-13T15:19:23.529971",
     "exception": false,
     "start_time": "2021-05-13T15:19:23.494454",
     "status": "completed"
    },
    "tags": []
   },
   "source": [
    "## Step 5: Chocolate!\n",
    "\n",
    "In the code cell below, create a scatter plot to show the relationship between `'pricepercent'` (on the horizontal x-axis) and `'winpercent'` (on the vertical y-axis). Use the `'chocolate'` column to color-code the points.  _Don't add any regression lines just yet -- you'll do that in the next step!_"
   ]
  },
  {
   "cell_type": "code",
   "execution_count": 16,
   "id": "minor-truck",
   "metadata": {
    "execution": {
     "iopub.execute_input": "2021-05-13T15:19:23.605589Z",
     "iopub.status.busy": "2021-05-13T15:19:23.604898Z",
     "iopub.status.idle": "2021-05-13T15:19:23.881642Z",
     "shell.execute_reply": "2021-05-13T15:19:23.880919Z"
    },
    "papermill": {
     "duration": 0.315676,
     "end_time": "2021-05-13T15:19:23.881794",
     "exception": false,
     "start_time": "2021-05-13T15:19:23.566118",
     "status": "completed"
    },
    "tags": []
   },
   "outputs": [
    {
     "data": {
      "application/javascript": [
       "parent.postMessage({\"jupyterEvent\": \"custom.exercise_interaction\", \"data\": {\"outcomeType\": 1, \"valueTowardsCompletion\": 0.3333333333333333, \"interactionType\": 1, \"questionType\": 2, \"questionId\": \"5_ColorScatter\", \"learnToolsVersion\": \"0.3.4\", \"failureMessage\": \"\", \"exceptionClass\": \"\", \"trace\": \"\"}}, \"*\")"
      ],
      "text/plain": [
       "<IPython.core.display.Javascript object>"
      ]
     },
     "metadata": {},
     "output_type": "display_data"
    },
    {
     "data": {
      "text/markdown": [
       "<span style=\"color:#33cc33\">Correct</span>"
      ],
      "text/plain": [
       "Correct"
      ]
     },
     "metadata": {},
     "output_type": "display_data"
    },
    {
     "data": {
      "image/png": "[encoded data removed]",
      "text/plain": [
       "<Figure size 432x288 with 1 Axes>"
      ]
     },
     "metadata": {
      "needs_background": "light"
     },
     "output_type": "display_data"
    }
   ],
   "source": [
    "# Scatter plot showing the relationship between 'pricepercent', 'winpercent', and 'chocolate'\n",
    "sns.scatterplot(x=candy_data['pricepercent'], y=candy_data['winpercent'], hue=candy_data['chocolate'])\n",
    "# Your code here\n",
    "\n",
    "# Check your answer\n",
    "step_5.check()"
   ]
  },
  {
   "cell_type": "code",
   "execution_count": 17,
   "id": "charitable-cycle",
   "metadata": {
    "execution": {
     "iopub.execute_input": "2021-05-13T15:19:23.963737Z",
     "iopub.status.busy": "2021-05-13T15:19:23.963020Z",
     "iopub.status.idle": "2021-05-13T15:19:23.967770Z",
     "shell.execute_reply": "2021-05-13T15:19:23.967174Z"
    },
    "papermill": {
     "duration": 0.048143,
     "end_time": "2021-05-13T15:19:23.967934",
     "exception": false,
     "start_time": "2021-05-13T15:19:23.919791",
     "status": "completed"
    },
    "tags": []
   },
   "outputs": [],
   "source": [
    "# Lines below will give you a hint or solution code\n",
    "#step_5.hint()\n",
    "#step_5.solution_plot()"
   ]
  },
  {
   "cell_type": "markdown",
   "id": "premium-percentage",
   "metadata": {
    "papermill": {
     "duration": 0.047065,
     "end_time": "2021-05-13T15:19:24.058332",
     "exception": false,
     "start_time": "2021-05-13T15:19:24.011267",
     "status": "completed"
    },
    "tags": []
   },
   "source": [
    "Can you see any interesting patterns in the scatter plot?  We'll investigate this plot further  by adding regression lines in the next step!\n",
    "\n",
    "## Step 6: Investigate chocolate\n",
    "\n",
    "#### Part A\n",
    "\n",
    "Create the same scatter plot you created in **Step 5**, but now with two regression lines, corresponding to (1) chocolate candies and (2) candies without chocolate."
   ]
  },
  {
   "cell_type": "code",
   "execution_count": 18,
   "id": "median-democracy",
   "metadata": {
    "execution": {
     "iopub.execute_input": "2021-05-13T15:19:24.195527Z",
     "iopub.status.busy": "2021-05-13T15:19:24.179537Z",
     "iopub.status.idle": "2021-05-13T15:19:24.761130Z",
     "shell.execute_reply": "2021-05-13T15:19:24.760431Z"
    },
    "papermill": {
     "duration": 0.659944,
     "end_time": "2021-05-13T15:19:24.761299",
     "exception": false,
     "start_time": "2021-05-13T15:19:24.101355",
     "status": "completed"
    },
    "tags": []
   },
   "outputs": [
    {
     "data": {
      "application/javascript": [
       "parent.postMessage({\"jupyterEvent\": \"custom.exercise_interaction\", \"data\": {\"outcomeType\": 1, \"valueTowardsCompletion\": 0.3333333333333333, \"interactionType\": 1, \"questionType\": 2, \"questionId\": \"6.1_PlotColorReg\", \"learnToolsVersion\": \"0.3.4\", \"failureMessage\": \"\", \"exceptionClass\": \"\", \"trace\": \"\"}}, \"*\")"
      ],
      "text/plain": [
       "<IPython.core.display.Javascript object>"
      ]
     },
     "metadata": {},
     "output_type": "display_data"
    },
    {
     "data": {
      "text/markdown": [
       "<span style=\"color:#33cc33\">Correct</span>"
      ],
      "text/plain": [
       "Correct"
      ]
     },
     "metadata": {},
     "output_type": "display_data"
    },
    {
     "data": {
      "image/png": "[encoded data removed]",
      "text/plain": [
       "<Figure size 416.375x360 with 1 Axes>"
      ]
     },
     "metadata": {
      "needs_background": "light"
     },
     "output_type": "display_data"
    }
   ],
   "source": [
    "# Color-coded scatter plot w/ regression lines\n",
    "sns.lmplot(x=\"pricepercent\", y=\"winpercent\", hue=\"chocolate\", data=candy_data)\n",
    "# Your code here\n",
    "\n",
    "# Check your answer\n",
    "step_6.a.check()"
   ]
  },
  {
   "cell_type": "code",
   "execution_count": 19,
   "id": "automatic-airport",
   "metadata": {
    "execution": {
     "iopub.execute_input": "2021-05-13T15:19:24.847460Z",
     "iopub.status.busy": "2021-05-13T15:19:24.846764Z",
     "iopub.status.idle": "2021-05-13T15:19:24.850806Z",
     "shell.execute_reply": "2021-05-13T15:19:24.850113Z"
    },
    "papermill": {
     "duration": 0.049011,
     "end_time": "2021-05-13T15:19:24.850956",
     "exception": false,
     "start_time": "2021-05-13T15:19:24.801945",
     "status": "completed"
    },
    "tags": []
   },
   "outputs": [],
   "source": [
    "# Lines below will give you a hint or solution code\n",
    "#step_6.a.hint()\n",
    "#step_6.a.solution_plot()"
   ]
  },
  {
   "cell_type": "markdown",
   "id": "greek-distinction",
   "metadata": {
    "papermill": {
     "duration": 0.048624,
     "end_time": "2021-05-13T15:19:24.941186",
     "exception": false,
     "start_time": "2021-05-13T15:19:24.892562",
     "status": "completed"
    },
    "tags": []
   },
   "source": [
    "#### Part B\n",
    "\n",
    "Using the regression lines, what conclusions can you draw about the effects of chocolate and price on candy popularity?"
   ]
  },
  {
   "cell_type": "code",
   "execution_count": 20,
   "id": "brief-medline",
   "metadata": {
    "execution": {
     "iopub.execute_input": "2021-05-13T15:19:25.031839Z",
     "iopub.status.busy": "2021-05-13T15:19:25.031188Z",
     "iopub.status.idle": "2021-05-13T15:19:25.035449Z",
     "shell.execute_reply": "2021-05-13T15:19:25.034764Z"
    },
    "papermill": {
     "duration": 0.050849,
     "end_time": "2021-05-13T15:19:25.035609",
     "exception": false,
     "start_time": "2021-05-13T15:19:24.984760",
     "status": "completed"
    },
    "tags": []
   },
   "outputs": [],
   "source": [
    "#step_6.b.hint()"
   ]
  },
  {
   "cell_type": "code",
   "execution_count": 21,
   "id": "greater-location",
   "metadata": {
    "execution": {
     "iopub.execute_input": "2021-05-13T15:19:25.132627Z",
     "iopub.status.busy": "2021-05-13T15:19:25.131661Z",
     "iopub.status.idle": "2021-05-13T15:19:25.139514Z",
     "shell.execute_reply": "2021-05-13T15:19:25.138821Z"
    },
    "papermill": {
     "duration": 0.063737,
     "end_time": "2021-05-13T15:19:25.139773",
     "exception": false,
     "start_time": "2021-05-13T15:19:25.076036",
     "status": "completed"
    },
    "tags": []
   },
   "outputs": [
    {
     "data": {
      "application/javascript": [
       "parent.postMessage({\"jupyterEvent\": \"custom.exercise_interaction\", \"data\": {\"interactionType\": 3, \"questionType\": 4, \"questionId\": \"6.2_ThinkColorReg\", \"learnToolsVersion\": \"0.3.4\", \"valueTowardsCompletion\": 0.0, \"failureMessage\": \"\", \"exceptionClass\": \"\", \"trace\": \"\", \"outcomeType\": 4}}, \"*\")"
      ],
      "text/plain": [
       "<IPython.core.display.Javascript object>"
      ]
     },
     "metadata": {},
     "output_type": "display_data"
    },
    {
     "data": {
      "text/markdown": [
       "<span style=\"color:#33cc99\">Solution:</span> We'll begin with the regression line for chocolate candies. Since this line has a slightly positive slope, we can say that more expensive chocolate candies tend to be more popular (than relatively cheaper chocolate candies).  Likewise, since the regression line for candies without chocolate has a negative slope, we can say that if candies don't contain chocolate, they tend to be more popular when they are cheaper.  One important note, however, is that the dataset is quite small -- so we shouldn't invest too much trust in these patterns!  To inspire more confidence in the results, we should add more candies to the dataset."
      ],
      "text/plain": [
       "Solution: We'll begin with the regression line for chocolate candies. Since this line has a slightly positive slope, we can say that more expensive chocolate candies tend to be more popular (than relatively cheaper chocolate candies).  Likewise, since the regression line for candies without chocolate has a negative slope, we can say that if candies don't contain chocolate, they tend to be more popular when they are cheaper.  One important note, however, is that the dataset is quite small -- so we shouldn't invest too much trust in these patterns!  To inspire more confidence in the results, we should add more candies to the dataset."
      ]
     },
     "metadata": {},
     "output_type": "display_data"
    }
   ],
   "source": [
    "# Check your answer (Run this code cell to receive credit!)\n",
    "step_6.b.solution()"
   ]
  },
  {
   "cell_type": "markdown",
   "id": "alike-badge",
   "metadata": {
    "papermill": {
     "duration": 0.041504,
     "end_time": "2021-05-13T15:19:25.223501",
     "exception": false,
     "start_time": "2021-05-13T15:19:25.181997",
     "status": "completed"
    },
    "tags": []
   },
   "source": [
    "## Step 7: Everybody loves chocolate.\n",
    "\n",
    "#### Part A\n",
    "\n",
    "Create a categorical scatter plot to highlight the relationship between `'chocolate'` and `'winpercent'`.  Put `'chocolate'` on the (horizontal) x-axis, and `'winpercent'` on the (vertical) y-axis."
   ]
  },
  {
   "cell_type": "code",
   "execution_count": 22,
   "id": "patent-complaint",
   "metadata": {
    "execution": {
     "iopub.execute_input": "2021-05-13T15:19:25.313688Z",
     "iopub.status.busy": "2021-05-13T15:19:25.312927Z",
     "iopub.status.idle": "2021-05-13T15:19:25.513028Z",
     "shell.execute_reply": "2021-05-13T15:19:25.513572Z"
    },
    "papermill": {
     "duration": 0.248831,
     "end_time": "2021-05-13T15:19:25.513753",
     "exception": false,
     "start_time": "2021-05-13T15:19:25.264922",
     "status": "completed"
    },
    "tags": []
   },
   "outputs": [
    {
     "data": {
      "application/javascript": [
       "parent.postMessage({\"jupyterEvent\": \"custom.exercise_interaction\", \"data\": {\"outcomeType\": 1, \"valueTowardsCompletion\": 0.3333333333333333, \"interactionType\": 1, \"questionType\": 2, \"questionId\": \"7.1_PlotSwarm\", \"learnToolsVersion\": \"0.3.4\", \"failureMessage\": \"\", \"exceptionClass\": \"\", \"trace\": \"\"}}, \"*\")"
      ],
      "text/plain": [
       "<IPython.core.display.Javascript object>"
      ]
     },
     "metadata": {},
     "output_type": "display_data"
    },
    {
     "data": {
      "text/markdown": [
       "<span style=\"color:#33cc33\">Correct</span>"
      ],
      "text/plain": [
       "Correct"
      ]
     },
     "metadata": {},
     "output_type": "display_data"
    },
    {
     "data": {
      "image/png": "[encoded data removed]",
      "text/plain": [
       "<Figure size 432x288 with 1 Axes>"
      ]
     },
     "metadata": {
      "needs_background": "light"
     },
     "output_type": "display_data"
    }
   ],
   "source": [
    "# Scatter plot showing the relationship between 'chocolate' and 'winpercent'\n",
    "sns.swarmplot(x=candy_data['chocolate'], y=candy_data['winpercent'])\n",
    "# Your code here\n",
    "\n",
    "# Check your answer\n",
    "step_7.a.check()"
   ]
  },
  {
   "cell_type": "code",
   "execution_count": 23,
   "id": "alien-community",
   "metadata": {
    "execution": {
     "iopub.execute_input": "2021-05-13T15:19:25.605902Z",
     "iopub.status.busy": "2021-05-13T15:19:25.605176Z",
     "iopub.status.idle": "2021-05-13T15:19:25.608456Z",
     "shell.execute_reply": "2021-05-13T15:19:25.608941Z"
    },
    "papermill": {
     "duration": 0.051359,
     "end_time": "2021-05-13T15:19:25.609149",
     "exception": false,
     "start_time": "2021-05-13T15:19:25.557790",
     "status": "completed"
    },
    "tags": []
   },
   "outputs": [],
   "source": [
    "# Lines below will give you a hint or solution code\n",
    "#step_7.a.hint()\n",
    "#step_7.a.solution_plot()"
   ]
  },
  {
   "cell_type": "markdown",
   "id": "exciting-tuesday",
   "metadata": {
    "papermill": {
     "duration": 0.043763,
     "end_time": "2021-05-13T15:19:25.698484",
     "exception": false,
     "start_time": "2021-05-13T15:19:25.654721",
     "status": "completed"
    },
    "tags": []
   },
   "source": [
    "#### Part B\n",
    "\n",
    "You decide to dedicate a section of your report to the fact that chocolate candies tend to be more popular than candies without chocolate.  Which plot is more appropriate to tell this story: the plot from **Step 6**, or the plot from **Step 7**?"
   ]
  },
  {
   "cell_type": "code",
   "execution_count": 24,
   "id": "organic-austria",
   "metadata": {
    "execution": {
     "iopub.execute_input": "2021-05-13T15:19:25.790408Z",
     "iopub.status.busy": "2021-05-13T15:19:25.789639Z",
     "iopub.status.idle": "2021-05-13T15:19:25.793625Z",
     "shell.execute_reply": "2021-05-13T15:19:25.794227Z"
    },
    "papermill": {
     "duration": 0.052162,
     "end_time": "2021-05-13T15:19:25.794418",
     "exception": false,
     "start_time": "2021-05-13T15:19:25.742256",
     "status": "completed"
    },
    "tags": []
   },
   "outputs": [],
   "source": [
    "#step_7.b.hint()"
   ]
  },
  {
   "cell_type": "code",
   "execution_count": 25,
   "id": "thirty-allowance",
   "metadata": {
    "execution": {
     "iopub.execute_input": "2021-05-13T15:19:25.885879Z",
     "iopub.status.busy": "2021-05-13T15:19:25.885172Z",
     "iopub.status.idle": "2021-05-13T15:19:25.893877Z",
     "shell.execute_reply": "2021-05-13T15:19:25.893223Z"
    },
    "papermill": {
     "duration": 0.055656,
     "end_time": "2021-05-13T15:19:25.894015",
     "exception": false,
     "start_time": "2021-05-13T15:19:25.838359",
     "status": "completed"
    },
    "tags": []
   },
   "outputs": [
    {
     "data": {
      "application/javascript": [
       "parent.postMessage({\"jupyterEvent\": \"custom.exercise_interaction\", \"data\": {\"interactionType\": 3, \"questionType\": 4, \"questionId\": \"7.2_ThinkSwarm\", \"learnToolsVersion\": \"0.3.4\", \"valueTowardsCompletion\": 0.0, \"failureMessage\": \"\", \"exceptionClass\": \"\", \"trace\": \"\", \"outcomeType\": 4}}, \"*\")"
      ],
      "text/plain": [
       "<IPython.core.display.Javascript object>"
      ]
     },
     "metadata": {},
     "output_type": "display_data"
    },
    {
     "data": {
      "text/markdown": [
       "<span style=\"color:#33cc99\">Solution:</span> In this case, the categorical scatter plot from **Step 7** is the more appropriate plot. While both plots tell the desired story, the plot from **Step 6** conveys far more information that could distract from the main point."
      ],
      "text/plain": [
       "Solution: In this case, the categorical scatter plot from **Step 7** is the more appropriate plot. While both plots tell the desired story, the plot from **Step 6** conveys far more information that could distract from the main point."
      ]
     },
     "metadata": {},
     "output_type": "display_data"
    }
   ],
   "source": [
    "# Check your answer (Run this code cell to receive credit!)\n",
    "step_7.b.solution()"
   ]
  },
  {
   "cell_type": "markdown",
   "id": "documentary-bullet",
   "metadata": {
    "papermill": {
     "duration": 0.045133,
     "end_time": "2021-05-13T15:19:25.984960",
     "exception": false,
     "start_time": "2021-05-13T15:19:25.939827",
     "status": "completed"
    },
    "tags": []
   },
   "source": [
    "## Keep going\n",
    "\n",
    "Explore **[histograms and density plots](https://www.kaggle.com/alexisbcook/distributions)**."
   ]
  },
  {
   "cell_type": "markdown",
   "id": "combined-finder",
   "metadata": {
    "papermill": {
     "duration": 0.044619,
     "end_time": "2021-05-13T15:19:26.074621",
     "exception": false,
     "start_time": "2021-05-13T15:19:26.030002",
     "status": "completed"
    },
    "tags": []
   },
   "source": [
    "---\n",
    "\n",
    "\n",
    "\n",
    "\n",
    "*Have questions or comments? Visit the [Learn Discussion forum](https://www.kaggle.com/learn-forum/161291) to chat with other Learners.*"
   ]
  }
 ],
 "metadata": {
  "kernelspec": {
   "display_name": "Python 3",
   "language": "python",
   "name": "python3"
  },
  "language_info": {
   "codemirror_mode": {
    "name": "ipython",
    "version": 3
   },
   "file_extension": ".py",
   "mimetype": "text/x-python",
   "name": "python",
   "nbconvert_exporter": "python",
   "pygments_lexer": "ipython3",
   "version": "3.7.9"
  },
  "papermill": {
   "default_parameters": {},
   "duration": 14.262491,
   "end_time": "2021-05-13T15:19:26.830790",
   "environment_variables": {},
   "exception": null,
   "input_path": "__notebook__.ipynb",
   "output_path": "__notebook__.ipynb",
   "parameters": {},
   "start_time": "2021-05-13T15:19:12.568299",
   "version": "2.3.2"
  }
 },
 "nbformat": 4,
 "nbformat_minor": 5
}
